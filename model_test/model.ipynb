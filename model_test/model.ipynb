{
 "cells": [
  {
   "cell_type": "code",
   "execution_count": 23,
   "metadata": {
    "_cell_guid": "a3c9c4d2-ff55-4324-ae4d-12c4476ee128",
    "_kg_hide-output": true,
    "_uuid": "d7c7da22-b8b3-4191-a016-ee3545b1fcc8"
   },
   "outputs": [],
   "source": [
    "from tensorflow.keras import layers\n",
    "from tensorflow import keras\n",
    "\n",
    "from keras.callbacks import EarlyStopping, ModelCheckpoint\n",
    "from sklearn.model_selection import train_test_split\n",
    "from tqdm import tqdm\n",
    "\n",
    "import matplotlib.pyplot as plt\n",
    "import tensorflow as tf\n",
    "import pandas as pd\n",
    "import numpy as np\n",
    "import os\n",
    "\n",
    "EPOCH = 100\n",
    "BATCH_SIZE = 8\n",
    "LEARNING_RATE = 0.001"
   ]
  },
  {
   "cell_type": "code",
   "execution_count": 24,
   "metadata": {},
   "outputs": [],
   "source": [
    "def createDirectory(directory):\n",
    "    try:\n",
    "        if not os.path.exists(directory):\n",
    "            os.makedirs(directory)\n",
    "    except OSError:\n",
    "        print(\"Error: Failed to create the directory.\")\n",
    "\n",
    "def plot_model__hist(hist):\n",
    "    path = './cheakpoint/lefms/' # loss, accuracy 그래프 저장할 path\n",
    "    createDirectory(path)\n",
    "\n",
    "    # loss 추이 그래프로 그려서 저장\n",
    "    plt.figure(figsize=(6,6))\n",
    "    plt.style.use(\"ggplot\")\n",
    "    plt.plot(hist.history['loss'], color='b', label=\"Training loss\")\n",
    "    plt.plot(hist.history['val_loss'], color='r', label=\"Validation loss\")\n",
    "    plt.savefig(path + 'model_loss_hist.png')\n",
    "    plt.legend()\n",
    "    plt.show()\n",
    "\n",
    "    # accuracy 추이 그래프로 그려서 저장\n",
    "    plt.figure(figsize=(6,6))\n",
    "    plt.style.use(\"ggplot\")\n",
    "    plt.plot(hist.history['accuracy'], color='b', label=\"Training accuracy\")\n",
    "    plt.plot(hist.history['val_accuracy'], color='r',label=\"Validation accuracy\")\n",
    "    plt.savefig(path + 'model_loss_hist.png')\n",
    "    plt.legend(loc = \"lower right\")\n",
    "    plt.show()"
   ]
  },
  {
   "attachments": {},
   "cell_type": "markdown",
   "metadata": {},
   "source": [
    "# Pre-processing data"
   ]
  },
  {
   "cell_type": "code",
   "execution_count": 25,
   "metadata": {},
   "outputs": [],
   "source": [
    "wellbeing = pd.read_csv('./data/Wellbeing_and_lifestyle_data_Kaggle.csv')\n",
    "wellbeing = wellbeing.drop('Timestamp', axis=1)\n",
    "wellbeing = wellbeing.drop([10005]) \n",
    "\n",
    "age_dict = {'Less than 20' : 1, '21 to 35' : 2, '36 to 50' : 3, '51 or more' : 4}\n",
    "wellbeing['AGE'] = pd.Series([age_dict[x] for x in wellbeing.AGE], index=wellbeing.index)\n",
    "\n",
    "gender_dict = {'Female' : 1, 'Male' : 0}\n",
    "wellbeing['GENDER'] = pd.Series([gender_dict[x] for x in wellbeing.GENDER], index=wellbeing.index)\n",
    "\n",
    "wellbeing['DAILY_STRESS'] = wellbeing['DAILY_STRESS'].astype(int)\n",
    "\n",
    "X = wellbeing.drop(['DAILY_STRESS', 'ACHIEVEMENT'], axis=1)\n",
    "y = wellbeing[['DAILY_STRESS', 'ACHIEVEMENT']]"
   ]
  },
  {
   "cell_type": "code",
   "execution_count": 26,
   "metadata": {},
   "outputs": [
    {
     "name": "stdout",
     "output_type": "stream",
     "text": [
      "\n",
      "Train X shape : (10700, 21)\n",
      "Train y shape : (10700, 2)\n",
      "\n",
      "Test X shape : (5271, 21)\n",
      "Test y shape : (5271, 2)\n",
      "\n"
     ]
    }
   ],
   "source": [
    "train_X, val_X, train_y, val_y = train_test_split(X, y, random_state = 42, test_size=0.33)\n",
    "print(f'''\n",
    "Train X shape : {train_X.shape}\n",
    "Train y shape : {train_y.shape}\n",
    "\n",
    "Test X shape : {val_X.shape}\n",
    "Test y shape : {val_y.shape}\n",
    "''')"
   ]
  },
  {
   "attachments": {},
   "cell_type": "markdown",
   "metadata": {},
   "source": [
    "# Data Anayslsis"
   ]
  },
  {
   "cell_type": "code",
   "execution_count": 31,
   "metadata": {},
   "outputs": [
    {
     "data": {
      "image/png": "[encoded data removed]",
      "text/plain": [
       "<Figure size 640x480 with 1 Axes>"
      ]
     },
     "metadata": {},
     "output_type": "display_data"
    }
   ],
   "source": [
    "plt.hist(y['ACHIEVEMENT'], bins=20)\n",
    "plt.show()"
   ]
  },
  {
   "cell_type": "code",
   "execution_count": 32,
   "metadata": {},
   "outputs": [
    {
     "data": {
      "image/png": "[encoded data removed]",
      "text/plain": [
       "<Figure size 640x480 with 1 Axes>"
      ]
     },
     "metadata": {},
     "output_type": "display_data"
    }
   ],
   "source": [
    "plt.hist(y['DAILY_STRESS'], bins=20)\n",
    "plt.show()"
   ]
  },
  {
   "cell_type": "code",
   "execution_count": 36,
   "metadata": {},
   "outputs": [
    {
     "name": "stderr",
     "output_type": "stream",
     "text": [
      "100%|██████████| 15971/15971 [00:00<00:00, 1656377.76it/s]"
     ]
    },
    {
     "name": "stdout",
     "output_type": "stream",
     "text": [
      "y_achievement category array shape : (15971, 6)\n"
     ]
    },
    {
     "name": "stderr",
     "output_type": "stream",
     "text": [
      "\n"
     ]
    }
   ],
   "source": [
    "y_achievement_cate = list()\n",
    "for value in tqdm(y['ACHIEVEMENT']):\n",
    "    if value < 2:\n",
    "        y_achievement_cate.append([1, 0, 0, 0, 0, 0])\n",
    "\n",
    "    elif 2 <= value and value < 4:\n",
    "        y_achievement_cate.append([0, 1, 0, 0, 0, 0])\n",
    "\n",
    "    elif 4 <= value and value < 6:\n",
    "        y_achievement_cate.append([0, 0, 1, 0, 0, 0])\n",
    "\n",
    "    elif 6 <= value and value < 8:\n",
    "        y_achievement_cate.append([0, 0, 0, 1, 0, 0])\n",
    "\n",
    "    elif 8 <= value and value < 10:\n",
    "        y_achievement_cate.append([0, 0, 0, 0, 1, 0])\n",
    "\n",
    "    else:\n",
    "        y_achievement_cate.append([0, 0, 0, 0, 0, 1])\n",
    "\n",
    "y_achievement_cate = np.array(y_achievement_cate)\n",
    "print(f\"y_achievement category array shape : {y_achievement_cate.shape}\")"
   ]
  },
  {
   "cell_type": "code",
   "execution_count": 38,
   "metadata": {},
   "outputs": [
    {
     "name": "stderr",
     "output_type": "stream",
     "text": [
      "100%|██████████| 15971/15971 [00:00<00:00, 1961041.87it/s]"
     ]
    },
    {
     "name": "stdout",
     "output_type": "stream",
     "text": [
      "y_daily_stress_category shape : (15971, 6)\n"
     ]
    },
    {
     "name": "stderr",
     "output_type": "stream",
     "text": [
      "\n"
     ]
    }
   ],
   "source": [
    "y_daily_stress_cate = list()\n",
    "\n",
    "for value in tqdm(y['DAILY_STRESS']):\n",
    "    if value == 0:\n",
    "        y_daily_stress_cate.append([1, 0, 0, 0, 0, 0])\n",
    "\n",
    "    elif value == 1:\n",
    "        y_daily_stress_cate.append([0, 1, 0, 0, 0, 0])\n",
    "\n",
    "    elif value == 2:\n",
    "        y_daily_stress_cate.append([0, 0, 1, 0, 0, 0])\n",
    "\n",
    "    elif value == 3:\n",
    "        y_daily_stress_cate.append([0, 0, 0, 1, 0, 0])\n",
    "\n",
    "    elif value == 4:\n",
    "        y_daily_stress_cate.append([0, 0, 0, 0, 1, 0])\n",
    "\n",
    "    else:\n",
    "        y_daily_stress_cate.append([0, 0, 0, 0, 0, 1])\n",
    "\n",
    "y_daily_stress_cate = np.array(y_daily_stress_cate)\n",
    "print(f\"y_daily_stress_category shape : {y_daily_stress_cate.shape}\")"
   ]
  },
  {
   "attachments": {},
   "cell_type": "markdown",
   "metadata": {},
   "source": [
    "# PCA Data Visualization"
   ]
  },
  {
   "cell_type": "code",
   "execution_count": 72,
   "metadata": {},
   "outputs": [],
   "source": [
    "from sklearn.preprocessing import StandardScaler\n",
    "from sklearn.decomposition import PCA\n",
    "\n",
    "pca_X = StandardScaler().fit_transform(\n",
    "    X.loc[:, X.columns.tolist()].values\n",
    ")\n",
    "\n",
    "pca_y = y.loc[:, ['DAILY_STRESS']]\n",
    "\n",
    "pca = PCA(n_components=6)\n",
    "principalComponents = pca.fit_transform(pca_X)"
   ]
  },
  {
   "cell_type": "code",
   "execution_count": 73,
   "metadata": {},
   "outputs": [],
   "source": [
    "pcaDF = pd.DataFrame(\n",
    "    data = principalComponents,\n",
    "    columns=['pca1', 'pca2', 'pca3', 'pca4', 'pca5', 'pca6']\n",
    ")\n",
    "\n",
    "finalDF = pd.concat([pcaDF, pca_y], axis=1)"
   ]
  },
  {
   "cell_type": "code",
   "execution_count": 89,
   "metadata": {},
   "outputs": [
    {
     "ename": "TypeError",
     "evalue": "unhashable type: 'Series'",
     "output_type": "error",
     "traceback": [
      "\u001b[0;31m---------------------------------------------------------------------------\u001b[0m",
      "\u001b[0;31mTypeError\u001b[0m                                 Traceback (most recent call last)",
      "Cell \u001b[0;32mIn[89], line 8\u001b[0m\n\u001b[1;32m      6\u001b[0m \u001b[39mfor\u001b[39;00m target_value \u001b[39min\u001b[39;00m targets:\n\u001b[1;32m      7\u001b[0m     indicesToKeep \u001b[39m=\u001b[39m finalDF[\u001b[39m'\u001b[39m\u001b[39mDAILY_STRESS\u001b[39m\u001b[39m'\u001b[39m] \u001b[39m==\u001b[39m target_value\n\u001b[0;32m----> 8\u001b[0m     ax\u001b[39m.\u001b[39;49mscatter(\n\u001b[1;32m      9\u001b[0m         finalDF\u001b[39m.\u001b[39;49mloc[indicesToKeep, \u001b[39m'\u001b[39;49m\u001b[39mpca1\u001b[39;49m\u001b[39m'\u001b[39;49m],\n\u001b[1;32m     10\u001b[0m         finalDF\u001b[39m.\u001b[39;49mloc[indicesToKeep, \u001b[39m'\u001b[39;49m\u001b[39mpca2\u001b[39;49m\u001b[39m'\u001b[39;49m],\n\u001b[1;32m     11\u001b[0m         finalDF\u001b[39m.\u001b[39;49mloc[indicesToKeep, \u001b[39m'\u001b[39;49m\u001b[39mpca3\u001b[39;49m\u001b[39m'\u001b[39;49m],\n\u001b[1;32m     12\u001b[0m         finalDF\u001b[39m.\u001b[39;49mloc[indicesToKeep, \u001b[39m'\u001b[39;49m\u001b[39mpca4\u001b[39;49m\u001b[39m'\u001b[39;49m],\n\u001b[1;32m     13\u001b[0m         finalDF\u001b[39m.\u001b[39;49mloc[indicesToKeep, \u001b[39m'\u001b[39;49m\u001b[39mpca5\u001b[39;49m\u001b[39m'\u001b[39;49m],\n\u001b[1;32m     14\u001b[0m         finalDF\u001b[39m.\u001b[39;49mloc[indicesToKeep, \u001b[39m'\u001b[39;49m\u001b[39mpca6\u001b[39;49m\u001b[39m'\u001b[39;49m]\n\u001b[1;32m     15\u001b[0m     )\n\u001b[1;32m     17\u001b[0m ax\u001b[39m.\u001b[39mlegend(targets)\n\u001b[1;32m     18\u001b[0m ax\u001b[39m.\u001b[39mgrid()\n",
      "File \u001b[0;32m~/miniconda/lib/python3.10/site-packages/matplotlib/__init__.py:1423\u001b[0m, in \u001b[0;36m_preprocess_data.<locals>.inner\u001b[0;34m(ax, data, *args, **kwargs)\u001b[0m\n\u001b[1;32m   1420\u001b[0m \u001b[39m@functools\u001b[39m\u001b[39m.\u001b[39mwraps(func)\n\u001b[1;32m   1421\u001b[0m \u001b[39mdef\u001b[39;00m \u001b[39minner\u001b[39m(ax, \u001b[39m*\u001b[39margs, data\u001b[39m=\u001b[39m\u001b[39mNone\u001b[39;00m, \u001b[39m*\u001b[39m\u001b[39m*\u001b[39mkwargs):\n\u001b[1;32m   1422\u001b[0m     \u001b[39mif\u001b[39;00m data \u001b[39mis\u001b[39;00m \u001b[39mNone\u001b[39;00m:\n\u001b[0;32m-> 1423\u001b[0m         \u001b[39mreturn\u001b[39;00m func(ax, \u001b[39m*\u001b[39;49m\u001b[39mmap\u001b[39;49m(sanitize_sequence, args), \u001b[39m*\u001b[39;49m\u001b[39m*\u001b[39;49mkwargs)\n\u001b[1;32m   1425\u001b[0m     bound \u001b[39m=\u001b[39m new_sig\u001b[39m.\u001b[39mbind(ax, \u001b[39m*\u001b[39margs, \u001b[39m*\u001b[39m\u001b[39m*\u001b[39mkwargs)\n\u001b[1;32m   1426\u001b[0m     auto_label \u001b[39m=\u001b[39m (bound\u001b[39m.\u001b[39marguments\u001b[39m.\u001b[39mget(label_namer)\n\u001b[1;32m   1427\u001b[0m                   \u001b[39mor\u001b[39;00m bound\u001b[39m.\u001b[39mkwargs\u001b[39m.\u001b[39mget(label_namer))\n",
      "File \u001b[0;32m~/miniconda/lib/python3.10/site-packages/matplotlib/axes/_axes.py:4565\u001b[0m, in \u001b[0;36mAxes.scatter\u001b[0;34m(self, x, y, s, c, marker, cmap, norm, vmin, vmax, alpha, linewidths, edgecolors, plotnonfinite, **kwargs)\u001b[0m\n\u001b[1;32m   4563\u001b[0m     marker_obj \u001b[39m=\u001b[39m marker\n\u001b[1;32m   4564\u001b[0m \u001b[39melse\u001b[39;00m:\n\u001b[0;32m-> 4565\u001b[0m     marker_obj \u001b[39m=\u001b[39m mmarkers\u001b[39m.\u001b[39;49mMarkerStyle(marker)\n\u001b[1;32m   4567\u001b[0m path \u001b[39m=\u001b[39m marker_obj\u001b[39m.\u001b[39mget_path()\u001b[39m.\u001b[39mtransformed(\n\u001b[1;32m   4568\u001b[0m     marker_obj\u001b[39m.\u001b[39mget_transform())\n\u001b[1;32m   4569\u001b[0m \u001b[39mif\u001b[39;00m \u001b[39mnot\u001b[39;00m marker_obj\u001b[39m.\u001b[39mis_filled():\n",
      "File \u001b[0;32m~/miniconda/lib/python3.10/site-packages/matplotlib/markers.py:272\u001b[0m, in \u001b[0;36mMarkerStyle.__init__\u001b[0;34m(self, marker, fillstyle, transform, capstyle, joinstyle)\u001b[0m\n\u001b[1;32m    267\u001b[0m     marker \u001b[39m=\u001b[39m \u001b[39m\"\u001b[39m\u001b[39m\"\u001b[39m\n\u001b[1;32m    268\u001b[0m     _api\u001b[39m.\u001b[39mwarn_deprecated(\n\u001b[1;32m    269\u001b[0m         \u001b[39m\"\u001b[39m\u001b[39m3.6\u001b[39m\u001b[39m\"\u001b[39m, message\u001b[39m=\u001b[39m\u001b[39m\"\u001b[39m\u001b[39mMarkerStyle(None) is deprecated since \u001b[39m\u001b[39m\"\u001b[39m\n\u001b[1;32m    270\u001b[0m         \u001b[39m\"\u001b[39m\u001b[39m%(since)s\u001b[39;00m\u001b[39m; support will be removed \u001b[39m\u001b[39m%(removal)s\u001b[39;00m\u001b[39m.  Use \u001b[39m\u001b[39m\"\u001b[39m\n\u001b[1;32m    271\u001b[0m         \u001b[39m\"\u001b[39m\u001b[39mMarkerStyle(\u001b[39m\u001b[39m'\u001b[39m\u001b[39m'\u001b[39m\u001b[39m) to construct an empty MarkerStyle.\u001b[39m\u001b[39m\"\u001b[39m)\n\u001b[0;32m--> 272\u001b[0m \u001b[39mself\u001b[39;49m\u001b[39m.\u001b[39;49m_set_marker(marker)\n",
      "File \u001b[0;32m~/miniconda/lib/python3.10/site-packages/matplotlib/markers.py:351\u001b[0m, in \u001b[0;36mMarkerStyle._set_marker\u001b[0;34m(self, marker)\u001b[0m\n\u001b[1;32m    347\u001b[0m \u001b[39melif\u001b[39;00m (\u001b[39misinstance\u001b[39m(marker, Sized) \u001b[39mand\u001b[39;00m \u001b[39mlen\u001b[39m(marker) \u001b[39min\u001b[39;00m (\u001b[39m2\u001b[39m, \u001b[39m3\u001b[39m) \u001b[39mand\u001b[39;00m\n\u001b[1;32m    348\u001b[0m         marker[\u001b[39m1\u001b[39m] \u001b[39min\u001b[39;00m (\u001b[39m0\u001b[39m, \u001b[39m1\u001b[39m, \u001b[39m2\u001b[39m)):\n\u001b[1;32m    349\u001b[0m     \u001b[39mself\u001b[39m\u001b[39m.\u001b[39m_marker_function \u001b[39m=\u001b[39m \u001b[39mself\u001b[39m\u001b[39m.\u001b[39m_set_tuple_marker\n\u001b[1;32m    350\u001b[0m \u001b[39melif\u001b[39;00m (\u001b[39mnot\u001b[39;00m \u001b[39misinstance\u001b[39m(marker, (np\u001b[39m.\u001b[39mndarray, \u001b[39mlist\u001b[39m)) \u001b[39mand\u001b[39;00m\n\u001b[0;32m--> 351\u001b[0m       marker \u001b[39min\u001b[39;49;00m \u001b[39mself\u001b[39;49m\u001b[39m.\u001b[39;49mmarkers):\n\u001b[1;32m    352\u001b[0m     \u001b[39mself\u001b[39m\u001b[39m.\u001b[39m_marker_function \u001b[39m=\u001b[39m \u001b[39mgetattr\u001b[39m(\n\u001b[1;32m    353\u001b[0m         \u001b[39mself\u001b[39m, \u001b[39m'\u001b[39m\u001b[39m_set_\u001b[39m\u001b[39m'\u001b[39m \u001b[39m+\u001b[39m \u001b[39mself\u001b[39m\u001b[39m.\u001b[39mmarkers[marker])\n\u001b[1;32m    354\u001b[0m \u001b[39melif\u001b[39;00m \u001b[39misinstance\u001b[39m(marker, MarkerStyle):\n",
      "\u001b[0;31mTypeError\u001b[0m: unhashable type: 'Series'"
     ]
    },
    {
     "data": {
      "image/png": "[encoded data removed]",
      "text/plain": [
       "<Figure size 800x800 with 1 Axes>"
      ]
     },
     "metadata": {},
     "output_type": "display_data"
    }
   ],
   "source": [
    "fig = plt.figure(figsize=(8, 8))\n",
    "ax = fig.add_subplot(1, 1, 1)\n",
    "\n",
    "targets = pca_y['DAILY_STRESS'].unique().tolist()\n",
    "\n",
    "for target_value in targets:\n",
    "    indicesToKeep = finalDF['DAILY_STRESS'] == target_value\n",
    "    ax.scatter(\n",
    "        finalDF.loc[indicesToKeep, 'pca1'],\n",
    "        finalDF.loc[indicesToKeep, 'pca2'],\n",
    "        finalDF.loc[indicesToKeep, 'pca3'],\n",
    "        finalDF.loc[indicesToKeep, 'pca4'],\n",
    "        finalDF.loc[indicesToKeep, 'pca5'],\n",
    "        finalDF.loc[indicesToKeep, 'pca6']\n",
    "    )\n",
    "\n",
    "ax.legend(targets)\n",
    "ax.grid()"
   ]
  },
  {
   "attachments": {},
   "cell_type": "markdown",
   "metadata": {},
   "source": [
    "# Model building"
   ]
  },
  {
   "cell_type": "code",
   "execution_count": 39,
   "metadata": {},
   "outputs": [],
   "source": [
    "x = layers.Input((21, 1))\n",
    "x = layers.Conv1d()"
   ]
  },
  {
   "cell_type": "code",
   "execution_count": null,
   "metadata": {},
   "outputs": [],
   "source": [
    "lefms = keras.Sequential([\n",
    "    layers.Conv1D(64, 3, padding='same', input_shape=(21, 1)),\n",
    "    layers.BatchNormalization(),\n",
    "    layers.Activation(keras.activations.relu),\n",
    "\n",
    "    layers.Conv1D(64, 3, padding='same'),\n",
    "    layers.Conv1D(64, 3, padding='same'),\n",
    "    layers.BatchNormalization(),\n",
    "    layers.Activation(keras.activations.relu),\n",
    "    layers.MaxPool1D(pool_size=(2), strides=2),\n",
    "    \n",
    "    layers.Conv1D(32, 3, padding='same'),\n",
    "    layers.Conv1D(32, 3, padding='same'),\n",
    "    layers.BatchNormalization(),\n",
    "    layers.Activation(keras.activations.relu),\n",
    "    layers.MaxPool1D(pool_size=(2), strides=2),\n",
    "    \n",
    "    layers.Conv1D(32, 3, padding='same'),\n",
    "    layers.Conv1D(32, 3, padding='same'),\n",
    "    layers.BatchNormalization(),\n",
    "    layers.Activation(keras.activations.relu),\n",
    "    layers.MaxPool1D(pool_size=(2), strides=2),\n",
    "    \n",
    "    layers.Conv1D(16, 3, padding='same'),\n",
    "    layers.Conv1D(16, 3, padding='same'),\n",
    "    layers.BatchNormalization(),\n",
    "    layers.Activation(keras.activations.relu),\n",
    "    layers.MaxPool1D(pool_size=(2), strides=2),\n",
    "\n",
    "    layers.Flatten(),\n",
    "    layers.Dense(128, activation='tanh'),\n",
    "    layers.Dense(32, activation='tanh'),\n",
    "    layers.Dense(2, activation='tanh')\n",
    "])"
   ]
  },
  {
   "cell_type": "code",
   "execution_count": null,
   "metadata": {},
   "outputs": [],
   "source": [
    "adam = keras.optimizers.Adam(\n",
    "        learning_rate=0.000001\n",
    ")\n",
    "\n",
    "lefms.compile(\n",
    "        optimizer=adam,\n",
    "        loss='binary_crossentropy',\n",
    "        metrics=['accuracy']\n",
    ")\n",
    "\n",
    "lefms.summary()"
   ]
  },
  {
   "cell_type": "code",
   "execution_count": null,
   "metadata": {},
   "outputs": [],
   "source": [
    "outDir = './cheakpoint/lefms_model/' # 이 경로에 best 모델이 저장된다.\n",
    "model_names = outDir + 'weights-{val_accuracy:.4f}.h5'\n",
    "def get_callbacks(patience = 50):\n",
    "    earlystop = EarlyStopping(monitor='val_accuracy', min_delta=0.0001, patience=patience)\n",
    "    model_checkpoint = ModelCheckpoint(model_names, monitor='val_accuracy', verbose=1, save_best_only=True, period = 1)\n",
    "  \n",
    "    # callbacks = [earlystop, model_checkpoint]     # earlystop 사용하고 싶으면 이거 풀고 아래꺼 주석 처리\n",
    "    callbacks = [model_checkpoint]\n",
    "\n",
    "    return callbacks"
   ]
  },
  {
   "cell_type": "code",
   "execution_count": null,
   "metadata": {},
   "outputs": [],
   "source": [
    "callbacks = get_callbacks()\n",
    "model_history = lefms.fit(\n",
    "    train_X, train_y,\n",
    "    batch_size=BATCH_SIZE,\n",
    "    epochs=EPOCH,\n",
    "    validation_data=(val_X, val_y),\n",
    "    callbacks=[callbacks]\n",
    ")"
   ]
  },
  {
   "attachments": {},
   "cell_type": "markdown",
   "metadata": {},
   "source": [
    "# Visualization results"
   ]
  },
  {
   "cell_type": "code",
   "execution_count": null,
   "metadata": {},
   "outputs": [],
   "source": [
    "plot_model__hist(model_history)\n",
    "loss,acc = lefms.evaluate(val_X, val_y, verbose=2)\n",
    "print(\"multi_model의 정확도: {:5.2f}%\".format(100*acc))\n",
    "print(\"multi_model의 Loss: {}\".format(loss))"
   ]
  },
  {
   "attachments": {},
   "cell_type": "markdown",
   "metadata": {},
   "source": [
    "# Recall models, test"
   ]
  },
  {
   "cell_type": "code",
   "execution_count": null,
   "metadata": {},
   "outputs": [],
   "source": [
    "model_saved_path = './cheakpoint/lefms_model/'\n",
    "\n",
    "recall_model_path = model_saved_path + sorted(os.listdir(model_saved_path))[-1]\n",
    "reconstructed_model = keras.models.load_model(recall_model_path)\n",
    "print(f\"Recalled model path : {recall_model_path}\")"
   ]
  },
  {
   "cell_type": "code",
   "execution_count": null,
   "metadata": {},
   "outputs": [],
   "source": [
    "y_pred = reconstructed_model.predict(val_X)"
   ]
  },
  {
   "cell_type": "code",
   "execution_count": null,
   "metadata": {},
   "outputs": [],
   "source": [
    "print(val_y)"
   ]
  },
  {
   "cell_type": "code",
   "execution_count": null,
   "metadata": {},
   "outputs": [],
   "source": [
    "print(y_pred)"
   ]
  },
  {
   "cell_type": "code",
   "execution_count": null,
   "metadata": {},
   "outputs": [],
   "source": []
  }
 ],
 "metadata": {
  "kernelspec": {
   "display_name": "base",
   "language": "python",
   "name": "python3"
  },
  "language_info": {
   "codemirror_mode": {
    "name": "ipython",
    "version": 3
   },
   "file_extension": ".py",
   "mimetype": "text/x-python",
   "name": "python",
   "nbconvert_exporter": "python",
   "pygments_lexer": "ipython3",
   "version": "3.10.8"
  },
  "vscode": {
   "interpreter": {
    "hash": "25fdbda81b622b307594938773e16b287176ac582df2520971d783c3ae35fc75"
   }
  }
 },
 "nbformat": 4,
 "nbformat_minor": 4
}
